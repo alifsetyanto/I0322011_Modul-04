{
 "cells": [
  {
   "cell_type": "code",
   "execution_count": null,
   "metadata": {},
   "outputs": [],
   "source": [
    "print(input(\"Nama: Alif Kus Setyanto \"))\n",
    "print(input(\"NIM: I0322011 \"))\n",
    "print(input(\"Kelas: A \"))"
   ]
  },
  {
   "attachments": {},
   "cell_type": "markdown",
   "metadata": {},
   "source": [
    "## 1."
   ]
  },
  {
   "attachments": {},
   "cell_type": "markdown",
   "metadata": {},
   "source": [
    "buatlah program sederhana untuk menghitung umur pengguna dengan ketentuan sebagai berikut :\n",
    "* Program meminta pengguna memasukan tanggal, bulan, dan tahun lahir\n",
    "* Program menghitung umur pengguna hingga tanggal 1 januari 2023\n",
    "* Program menampilkan umur dari pengguna"
   ]
  },
  {
   "cell_type": "code",
   "execution_count": 7,
   "metadata": {},
   "outputs": [
    {
     "name": "stdout",
     "output_type": "stream",
     "text": [
      "Tanggal lahir anda adalah 1 1 2003\n",
      "Umur anda adalah 19 tahun\n"
     ]
    }
   ],
   "source": [
    "tanggal = int(input(\"Masukkan tanggal lahir\"))\n",
    "bulan = int(input(\"Masukkan bulan lahir\"))\n",
    "tahun = int(input(\"Masukkan tahun lahir\"))\n",
    "\n",
    "if tanggal == 1:\n",
    "    if bulan == \"Januari\":\n",
    "        umur = 2023 - tahun\n",
    "else: umur = 2023 - tahun - 1\n",
    "\n",
    "print(\"Tanggal lahir anda adalah\" , tanggal, bulan, tahun)\n",
    "print(\"Umur anda adalah\" , umur, \"tahun\")"
   ]
  },
  {
   "attachments": {},
   "cell_type": "markdown",
   "metadata": {},
   "source": [
    "## 2."
   ]
  },
  {
   "attachments": {},
   "cell_type": "markdown",
   "metadata": {},
   "source": [
    "Pada 2015, wabah flu burung menyerang Indonesia dan beberapa peternak ayam mengalami kerugian karena banyaknya ayam yang mati. Setiap bulan, jumlah ayamnya berkurang menjadi setengah. Setelah dua bulan, jumlah ayam yang tersisa adalah 200 ekor. Hitunglah jumlah ayam sebelumnya yang dimiliki peternak tersebut! (gunakan rumus deret geometri)\n",
    "\n",
    "> *note: SOAL DIATAS DIKERJAKAN SESUAI DENGAN RUMUS BAKU*"
   ]
  },
  {
   "cell_type": "code",
   "execution_count": 4,
   "metadata": {},
   "outputs": [
    {
     "name": "stdout",
     "output_type": "stream",
     "text": [
      "Jumlah ayam sebelumnya yang dimiliki peternak tersebut adalah 800.0 ekor\n"
     ]
    }
   ],
   "source": [
    "rasio = 1/2\n",
    "jumlah_suku = 3\n",
    "sisa = 200\n",
    "\n",
    "a = sisa/(rasio**(jumlah_suku -1))\n",
    "\n",
    "print(\"Jumlah ayam sebelumnya yang dimiliki peternak tersebut adalah\", a, \"ekor\")"
   ]
  },
  {
   "attachments": {},
   "cell_type": "markdown",
   "metadata": {},
   "source": [
    "## 3. "
   ]
  },
  {
   "attachments": {},
   "cell_type": "markdown",
   "metadata": {},
   "source": [
    "* **A** Hitunglah luas Prisma Segitiga dengan ketentuan sebagai berikut:\n",
    "    * Alas dan tutup prisma merupakan segitiga\n",
    "    * Terdapat 3 persegi panjang yang menyinggung alas dan tutup prisma\n",
    "    * Sisi persegi panjang yang menyinggung segitiga adalah sisi lebar\n",
    "```python\n",
    "    dictionary_figure = {\"Persegi\":{\"Sisi\":22},\n",
    "                        \"Persegi Panjang\":{\"Panjang\":10,\"Lebar\":5},\n",
    "                        \"Segitiga Sama Sisi\":{\"Sisi\":6,\"Tinggi\":3**(1/2) * 3},\n",
    "                        \"Lingkaran\":{\"Diameter\":7}}\n",
    "```\n",
    "* **B** Hitunglah luas Tabung dengan ketentuan sebagai berikut:\n",
    "    * Alas dan tutup tabung merupakan lingkaran\n",
    "    * Terdapat 1 persegi yang menyinggung alas dan tutup tabung\n",
    "    * Persegi yang ada mengelilingi lingkaran hingga sisi dari persegi saling bertemu\n",
    "\n",
    "> *note: Pada soal ini kalian hanya boleh menggunakan key-value pair dan index pada list. Tidak diperbolehkan menulis secara langsung dimensi dari figure*"
   ]
  },
  {
   "cell_type": "code",
   "execution_count": 8,
   "metadata": {},
   "outputs": [
    {
     "name": "stdout",
     "output_type": "stream",
     "text": [
      "Luas permukaan prisma segitiga adalah 181.1769145362398\n",
      "Luas Permukaan tabung adalah 561.0\n"
     ]
    }
   ],
   "source": [
    "dictionary_figure = {\"Persegi\":{\"Sisi\":22},\n",
    "                        \"Persegi Panjang\":{\"Panjang\":10,\"Lebar\":5},\n",
    "                        \"Segitiga Sama Sisi\":{\"Sisi\":6,\"Tinggi\":3**(1/2) * 3},\n",
    "                        \"Lingkaran\":{\"Diameter\":7}}\n",
    "\n",
    "luas = (dictionary_figure[\"Segitiga Sama Sisi\"][\"Sisi\"]) * (dictionary_figure[\"Segitiga Sama Sisi\"][\"Tinggi\"]) * 1/2 * 2 + (dictionary_figure[\"Persegi Panjang\"][\"Panjang\"]) * (dictionary_figure[\"Persegi Panjang\"][\"Lebar\"]) * 3\n",
    "print('Luas permukaan prisma segitiga adalah', luas)\n",
    "\n",
    "\n",
    "luas_permukaan = ((dictionary_figure[\"Lingkaran\"][\"Diameter\"]) * 1/2) ** 2 * 22/7 * 2 + (dictionary_figure[\"Persegi\"][\"Sisi\"]) ** 2\n",
    "print('Luas Permukaan tabung adalah', luas_permukaan)"
   ]
  }
 ],
 "metadata": {
  "kernelspec": {
   "display_name": "Python 3",
   "language": "python",
   "name": "python3"
  },
  "language_info": {
   "codemirror_mode": {
    "name": "ipython",
    "version": 3
   },
   "file_extension": ".py",
   "mimetype": "text/x-python",
   "name": "python",
   "nbconvert_exporter": "python",
   "pygments_lexer": "ipython3",
   "version": "3.11.2"
  },
  "orig_nbformat": 4,
  "vscode": {
   "interpreter": {
    "hash": "5addf786bcd861d1ce5006f23111f8cbb206731e5b61b0a5632ba9e0252558a8"
   }
  }
 },
 "nbformat": 4,
 "nbformat_minor": 2
}
